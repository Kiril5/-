{
  "nbformat": 4,
  "nbformat_minor": 0,
  "metadata": {
    "colab": {
      "provenance": []
    },
    "kernelspec": {
      "name": "python3",
      "display_name": "Python 3"
    },
    "language_info": {
      "name": "python"
    }
  },
  "cells": [
    {
      "cell_type": "code",
      "execution_count": 4,
      "metadata": {
        "id": "AL1tu-YdFviy"
      },
      "outputs": [],
      "source": [
        "class Employee:\n",
        "    def __init__(self, name, l_name, salary, exp):\n",
        "        self.name = name\n",
        "        self.last_name = l_name\n",
        "        self.base_salary = salary\n",
        "        self.experience = exp\n",
        "\n",
        "\n",
        "class Developer(Employee):\n",
        "    def __init__(self, name, l_name, salary, exp):\n",
        "       super().__init__(name, l_name, salary, exp)\n",
        "       \n",
        "\n",
        "class Designer(Employee):\n",
        "    def __init__(self, name, l_name, salary, exp, er):\n",
        "       super().__init__(name, l_name, salary, exp)\n",
        "       self.er = er\n",
        "\n",
        "class Manager(Employee):\n",
        "    def __init__(self, name, l_name, salary, exp, team):\n",
        "       super().__init__(name, l_name, salary, exp)\n",
        "       self.team = team   \n",
        "\n",
        "\n",
        "class Department:\n",
        "    def __init__(self, managers):\n",
        "         self.managers = managers\n",
        "    \n",
        "    def giveSalary(self):\n",
        "        print('\\n'.join(self.countedSalary()))\n",
        "\n",
        "    def countedSalary(self):\n",
        "        ans = []\n",
        "        for m in self.managers:\n",
        "            salary = m.base_salary\n",
        "            if m.experience > 5:   salary = salary*1.2 + 500\n",
        "            elif m.experience > 2: salary += 200\n",
        "\n",
        "            if len(m.team)>10: salary += 300\n",
        "            elif len(m.team)>5: salary += 200\n",
        "            \n",
        "            if sum(isinstance(x, Developer) for x in m.team)>len(m.team)/2: salary *= 1.1\n",
        "            ans.append(f'\\n{m.name} {m.last_name} отримав(-ла) {salary} шекелей')\n",
        "\n",
        "            for e in m.team:\n",
        "                salary = e.base_salary\n",
        "\n",
        "                if e.experience > 5:\n",
        "                    salary = salary*1.2 + 500\n",
        "                elif e.experience > 2:\n",
        "                    salary += 200\n",
        "                \n",
        "                if isinstance(e, Designer):\n",
        "                    salary *= e.er\n",
        "\n",
        "                ans.append(f'   {e.name} {e.last_name} отримав(-ла) {salary} гроші')\n",
        "\n",
        "        return ans"
      ]
    },
    {
      "cell_type": "code",
      "source": [
        "department = Department(\n",
        "    [\n",
        "        Manager('Богдан', 'Бебра', 4500, 8,\n",
        "                [\n",
        "                    Designer('Ілья',  'Залутський', 15530, 3,   1),\n",
        "                    Designer('Денис',  'Шаріпов',      14100, 1.5, 0.8),\n",
        "                    Designer('Олександр',   'Костильов',     15300, 3.5, 0.7),\n",
        "                    Designer('Валерій',    'Ваковський',   10400, 1.5, 0.9),\n",
        "                    Developer('Андрій', 'Кухарський',   25000, 5)\n",
        "                ]),\n",
        "        Manager('Андрій', 'Городенський', 19000, 7,\n",
        "                [\n",
        "                    Designer('Агата', 'Мельник',    23600,   1,   0.8),\n",
        "                    Designer('Вишезор',    'Шевченко', 12300,   0.5, 0.3),\n",
        "                    Developer('Буревій',    'Коваленко',  54800,   2.5),\n",
        "                    Developer('Богдана',  'Бондаренко',    11300,   2),\n",
        "                    Developer('Дмитро',  'Бойко',    23900, 3),\n",
        "                ]),\n",
        "        Manager('Вероніка', 'Ткаченко', 460230, 4,\n",
        "                [\n",
        "                    Designer('Анна',     'Кравченко',    234600, 1,   0.5),\n",
        "                    Designer('Дмитро',    'Ковальчук', 34245, 1.5, 0.7),\n",
        "                    Designer('Тарас',    'Коваль',    67744, 2,   0.9),\n",
        "                    Designer('Зінаїда',    'Олійник',    65600, 5,   0.4),\n",
        "                    Designer('Захар',    'Шевчук',  6456, 1.5, 0.3),\n",
        "                    Designer('Іванна',    'Поліщук',    64800, 1.5, 0.3),\n",
        "                    Developer('Денис',    'Ткачук',    52345, 3),\n",
        "                    Developer('Владислава',    'Савченко',     334500, 2.5),\n",
        "                    Developer('Вікторія','Бондар',   35620, 3.5),\n",
        "                    Developer('Єгор',    'Мороз',   353450, 1),\n",
        "                    Developer('Клара',  'Лисенко',    45340, 2)\n",
        "                ])\n",
        "        \n",
        "    ])"
      ],
      "metadata": {
        "id": "LKQvN4XrIFAf"
      },
      "execution_count": 5,
      "outputs": []
    },
    {
      "cell_type": "code",
      "source": [
        "department.giveSalary()"
      ],
      "metadata": {
        "colab": {
          "base_uri": "https://localhost:8080/"
        },
        "id": "HeusF9k0IJhX",
        "outputId": "4f19021f-b61e-4c2a-b192-af5a03a1a0c1"
      },
      "execution_count": 6,
      "outputs": [
        {
          "output_type": "stream",
          "name": "stdout",
          "text": [
            "\n",
            "Богдан Бебра отримав(-ла) 5900.0 шекелей\n",
            "   Ілья Залутський отримав(-ла) 15730 гроші\n",
            "   Денис Шаріпов отримав(-ла) 11280.0 гроші\n",
            "   Олександр Костильов отримав(-ла) 10850.0 гроші\n",
            "   Валерій Ваковський отримав(-ла) 9360.0 гроші\n",
            "   Андрій Кухарський отримав(-ла) 25200 гроші\n",
            "\n",
            "Андрій Городенський отримав(-ла) 25630.000000000004 шекелей\n",
            "   Агата Мельник отримав(-ла) 18880.0 гроші\n",
            "   Вишезор Шевченко отримав(-ла) 3690.0 гроші\n",
            "   Буревій Коваленко отримав(-ла) 55000 гроші\n",
            "   Богдана Бондаренко отримав(-ла) 11300 гроші\n",
            "   Дмитро Бойко отримав(-ла) 24100 гроші\n",
            "\n",
            "Вероніка Ткаченко отримав(-ла) 460730 шекелей\n",
            "   Анна Кравченко отримав(-ла) 117300.0 гроші\n",
            "   Дмитро Ковальчук отримав(-ла) 23971.5 гроші\n",
            "   Тарас Коваль отримав(-ла) 60969.6 гроші\n",
            "   Зінаїда Олійник отримав(-ла) 26320.0 гроші\n",
            "   Захар Шевчук отримав(-ла) 1936.8 гроші\n",
            "   Іванна Поліщук отримав(-ла) 19440.0 гроші\n",
            "   Денис Ткачук отримав(-ла) 52545 гроші\n",
            "   Владислава Савченко отримав(-ла) 334700 гроші\n",
            "   Вікторія Бондар отримав(-ла) 35820 гроші\n",
            "   Єгор Мороз отримав(-ла) 353450 гроші\n",
            "   Клара Лисенко отримав(-ла) 45340 гроші\n"
          ]
        }
      ]
    }
  ]
}